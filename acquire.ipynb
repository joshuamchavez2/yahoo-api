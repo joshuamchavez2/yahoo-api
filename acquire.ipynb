{
 "cells": [
  {
   "cell_type": "code",
   "execution_count": 1,
   "id": "2b6aa6f3",
   "metadata": {},
   "outputs": [],
   "source": [
    "import requests\n",
    "import pandas as pd\n",
    "from env import api_key\n",
    "from datetime import datetime"
   ]
  },
  {
   "cell_type": "markdown",
   "id": "54a08d1c",
   "metadata": {},
   "source": [
    "### /v8/finance/spark - historical data for various intervals and ranges"
   ]
  },
  {
   "cell_type": "code",
   "execution_count": null,
   "id": "93db410d",
   "metadata": {},
   "outputs": [],
   "source": [
    "# Grabbing 5 years of close prices for Microsoft and Apple\n",
    "headers = {\n",
    "    'x-api-key': api_key\n",
    "    }\n",
    "\n",
    "response = requests.request(\"GET\", 'https://yfapi.net/v8/finance/spark?interval=1d&range=5y&symbols=AAPL,MSFT', headers=headers)"
   ]
  },
  {
   "cell_type": "code",
   "execution_count": 3,
   "id": "f15c146e",
   "metadata": {},
   "outputs": [],
   "source": [
    "# Saving response to data \n",
    "data = response.json()"
   ]
  },
  {
   "cell_type": "code",
   "execution_count": 28,
   "id": "1ccb7b3b",
   "metadata": {},
   "outputs": [],
   "source": [
    "# Creating an empty DataFrame\n",
    "df = pd.DataFrame()\n",
    "\n",
    "# Looping through each symbol in data\n",
    "for symbol in data:\n",
    "    \n",
    "    # Creating a series for timestamp and closing price\n",
    "    timestamp = pd.Series(data[symbol]['timestamp'])\n",
    "    price = pd.Series(data[symbol]['close'])\n",
    "    \n",
    "    # Converting timestamp to year/month/day format\n",
    "    timestamp = timestamp.apply(lambda x : datetime.utcfromtimestamp(x).strftime('%Y-%m-%d'))\n",
    "    \n",
    "    # Saving series into a the empty DataFrame I created earlier\n",
    "    df[symbol + '_price'] = price\n",
    "    df[symbol + '_date'] = timestamp"
   ]
  },
  {
   "cell_type": "code",
   "execution_count": 29,
   "id": "b5050e2d",
   "metadata": {},
   "outputs": [
    {
     "data": {
      "text/html": [
       "<div>\n",
       "<style scoped>\n",
       "    .dataframe tbody tr th:only-of-type {\n",
       "        vertical-align: middle;\n",
       "    }\n",
       "\n",
       "    .dataframe tbody tr th {\n",
       "        vertical-align: top;\n",
       "    }\n",
       "\n",
       "    .dataframe thead th {\n",
       "        text-align: right;\n",
       "    }\n",
       "</style>\n",
       "<table border=\"1\" class=\"dataframe\">\n",
       "  <thead>\n",
       "    <tr style=\"text-align: right;\">\n",
       "      <th></th>\n",
       "      <th>MSFT_price</th>\n",
       "      <th>MSFT_date</th>\n",
       "      <th>AAPL_price</th>\n",
       "      <th>AAPL_date</th>\n",
       "    </tr>\n",
       "  </thead>\n",
       "  <tbody>\n",
       "    <tr>\n",
       "      <th>0</th>\n",
       "      <td>62.30</td>\n",
       "      <td>2017-01-04</td>\n",
       "      <td>29.005</td>\n",
       "      <td>2017-01-04</td>\n",
       "    </tr>\n",
       "    <tr>\n",
       "      <th>1</th>\n",
       "      <td>62.30</td>\n",
       "      <td>2017-01-05</td>\n",
       "      <td>29.153</td>\n",
       "      <td>2017-01-05</td>\n",
       "    </tr>\n",
       "    <tr>\n",
       "      <th>2</th>\n",
       "      <td>62.84</td>\n",
       "      <td>2017-01-06</td>\n",
       "      <td>29.478</td>\n",
       "      <td>2017-01-06</td>\n",
       "    </tr>\n",
       "    <tr>\n",
       "      <th>3</th>\n",
       "      <td>62.64</td>\n",
       "      <td>2017-01-09</td>\n",
       "      <td>29.747</td>\n",
       "      <td>2017-01-09</td>\n",
       "    </tr>\n",
       "    <tr>\n",
       "      <th>4</th>\n",
       "      <td>62.62</td>\n",
       "      <td>2017-01-10</td>\n",
       "      <td>29.778</td>\n",
       "      <td>2017-01-10</td>\n",
       "    </tr>\n",
       "    <tr>\n",
       "      <th>...</th>\n",
       "      <td>...</td>\n",
       "      <td>...</td>\n",
       "      <td>...</td>\n",
       "      <td>...</td>\n",
       "    </tr>\n",
       "    <tr>\n",
       "      <th>1254</th>\n",
       "      <td>341.25</td>\n",
       "      <td>2021-12-28</td>\n",
       "      <td>179.290</td>\n",
       "      <td>2021-12-28</td>\n",
       "    </tr>\n",
       "    <tr>\n",
       "      <th>1255</th>\n",
       "      <td>341.95</td>\n",
       "      <td>2021-12-29</td>\n",
       "      <td>179.380</td>\n",
       "      <td>2021-12-29</td>\n",
       "    </tr>\n",
       "    <tr>\n",
       "      <th>1256</th>\n",
       "      <td>339.32</td>\n",
       "      <td>2021-12-30</td>\n",
       "      <td>178.200</td>\n",
       "      <td>2021-12-30</td>\n",
       "    </tr>\n",
       "    <tr>\n",
       "      <th>1257</th>\n",
       "      <td>336.32</td>\n",
       "      <td>2021-12-31</td>\n",
       "      <td>177.570</td>\n",
       "      <td>2021-12-31</td>\n",
       "    </tr>\n",
       "    <tr>\n",
       "      <th>1258</th>\n",
       "      <td>334.75</td>\n",
       "      <td>2022-01-03</td>\n",
       "      <td>182.010</td>\n",
       "      <td>2022-01-03</td>\n",
       "    </tr>\n",
       "  </tbody>\n",
       "</table>\n",
       "<p>1259 rows × 4 columns</p>\n",
       "</div>"
      ],
      "text/plain": [
       "      MSFT_price   MSFT_date  AAPL_price   AAPL_date\n",
       "0          62.30  2017-01-04      29.005  2017-01-04\n",
       "1          62.30  2017-01-05      29.153  2017-01-05\n",
       "2          62.84  2017-01-06      29.478  2017-01-06\n",
       "3          62.64  2017-01-09      29.747  2017-01-09\n",
       "4          62.62  2017-01-10      29.778  2017-01-10\n",
       "...          ...         ...         ...         ...\n",
       "1254      341.25  2021-12-28     179.290  2021-12-28\n",
       "1255      341.95  2021-12-29     179.380  2021-12-29\n",
       "1256      339.32  2021-12-30     178.200  2021-12-30\n",
       "1257      336.32  2021-12-31     177.570  2021-12-31\n",
       "1258      334.75  2022-01-03     182.010  2022-01-03\n",
       "\n",
       "[1259 rows x 4 columns]"
      ]
     },
     "execution_count": 29,
     "metadata": {},
     "output_type": "execute_result"
    }
   ],
   "source": [
    "df"
   ]
  }
 ],
 "metadata": {
  "kernelspec": {
   "display_name": "Python 3",
   "language": "python",
   "name": "python3"
  },
  "language_info": {
   "codemirror_mode": {
    "name": "ipython",
    "version": 3
   },
   "file_extension": ".py",
   "mimetype": "text/x-python",
   "name": "python",
   "nbconvert_exporter": "python",
   "pygments_lexer": "ipython3",
   "version": "3.8.8"
  }
 },
 "nbformat": 4,
 "nbformat_minor": 5
}
