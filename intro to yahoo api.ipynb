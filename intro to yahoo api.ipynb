{
 "cells": [
  {
   "cell_type": "code",
   "execution_count": null,
   "id": "2ecc715e",
   "metadata": {},
   "outputs": [],
   "source": [
    "import requests\n",
    "from env import api_key\n",
    "\n",
    "url = \"https://yfapi.net/v6/finance/quote\"\n",
    "\n",
    "querystring = {\"symbols\":\"AAPL,BTC-USD,EURUSD=X\"}\n",
    "\n",
    "headers = {\n",
    "    'x-api-key': \"YOUR-PERSONAL-API-KEY\"\n",
    "    }\n",
    "\n",
    "response = requests.request(\"GET\", url, headers=headers, params=querystring)\n",
    "\n",
    "print(response.text)\n"
   ]
  }
 ],
 "metadata": {
  "kernelspec": {
   "display_name": "Python 3",
   "language": "python",
   "name": "python3"
  },
  "language_info": {
   "codemirror_mode": {
    "name": "ipython",
    "version": 3
   },
   "file_extension": ".py",
   "mimetype": "text/x-python",
   "name": "python",
   "nbconvert_exporter": "python",
   "pygments_lexer": "ipython3",
   "version": "3.8.8"
  }
 },
 "nbformat": 4,
 "nbformat_minor": 5
}
