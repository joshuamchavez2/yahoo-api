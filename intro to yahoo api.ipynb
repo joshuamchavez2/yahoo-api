{
 "cells": [
  {
   "cell_type": "code",
   "execution_count": 3,
   "id": "b520de38",
   "metadata": {},
   "outputs": [],
   "source": [
    "import requests\n",
    "from env import api_key\n",
    "\n",
    "url = \"https://yfapi.net/v6/finance/quote\"\n",
    "\n",
    "querystring = {\"symbols\":\"AAPL\"}\n",
    "\n",
    "headers = {\n",
    "    'x-api-key': api_key\n",
    "    }\n",
    "\n",
    "response = requests.request(\"GET\", url, headers=headers, params=querystring)"
   ]
  },
  {
   "cell_type": "code",
   "execution_count": 5,
   "id": "9d488e78",
   "metadata": {},
   "outputs": [],
   "source": [
    "# Successfully used API to grab Apples trading data"
   ]
  },
  {
   "cell_type": "code",
   "execution_count": 4,
   "id": "d8323075",
   "metadata": {},
   "outputs": [
    {
     "data": {
      "text/plain": [
       "{'quoteResponse': {'result': [{'language': 'en-US',\n",
       "    'region': 'US',\n",
       "    'quoteType': 'EQUITY',\n",
       "    'quoteSourceName': 'Nasdaq Real Time Price',\n",
       "    'triggerable': True,\n",
       "    'currency': 'USD',\n",
       "    'earningsTimestamp': 1635438600,\n",
       "    'earningsTimestampStart': 1643144400,\n",
       "    'earningsTimestampEnd': 1643662800,\n",
       "    'trailingAnnualDividendRate': 0.85,\n",
       "    'trailingPE': 32.144386,\n",
       "    'trailingAnnualDividendYield': 0.0048218747,\n",
       "    'epsTrailingTwelveMonths': 5.61,\n",
       "    'epsForward': 6.18,\n",
       "    'epsCurrentYear': 5.74,\n",
       "    'priceEpsCurrentYear': 31.416378,\n",
       "    'sharesOutstanding': 16406400000,\n",
       "    'bookValue': 3.841,\n",
       "    'fiftyDayAverage': 158.8656,\n",
       "    'fiftyDayAverageChange': 21.464401,\n",
       "    'fiftyDayAverageChangePercent': 0.13511044,\n",
       "    'twoHundredDayAverage': 142.5592,\n",
       "    'twoHundredDayAverageChange': 37.770798,\n",
       "    'twoHundredDayAverageChangePercent': 0.26494816,\n",
       "    'marketCap': 2958566096896,\n",
       "    'forwardPE': 29.179613,\n",
       "    'priceToBook': 46.94871,\n",
       "    'sourceInterval': 15,\n",
       "    'exchangeDataDelayedBy': 0,\n",
       "    'pageViewGrowthWeekly': -0.15529168,\n",
       "    'exchangeTimezoneName': 'America/New_York',\n",
       "    'exchangeTimezoneShortName': 'EST',\n",
       "    'gmtOffSetMilliseconds': -18000000,\n",
       "    'market': 'us_market',\n",
       "    'esgPopulated': False,\n",
       "    'shortName': 'Apple Inc.',\n",
       "    'firstTradeDateMilliseconds': 345479400000,\n",
       "    'priceHint': 2,\n",
       "    'exchange': 'NMS',\n",
       "    'longName': 'Apple Inc.',\n",
       "    'messageBoardId': 'finmb_24937',\n",
       "    'averageAnalystRating': '1.8 - Buy',\n",
       "    'tradeable': False,\n",
       "    'postMarketChangePercent': -0.293905,\n",
       "    'postMarketTime': 1640653195,\n",
       "    'postMarketPrice': 179.8,\n",
       "    'postMarketChange': -0.529999,\n",
       "    'regularMarketChange': 4.050003,\n",
       "    'regularMarketChangePercent': 2.297483,\n",
       "    'regularMarketTime': 1640638803,\n",
       "    'regularMarketPrice': 180.33,\n",
       "    'regularMarketDayHigh': 180.4,\n",
       "    'regularMarketDayRange': '177.09 - 180.4',\n",
       "    'regularMarketDayLow': 177.09,\n",
       "    'regularMarketVolume': 72850218,\n",
       "    'regularMarketPreviousClose': 176.28,\n",
       "    'bid': 179.83,\n",
       "    'ask': 179.85,\n",
       "    'bidSize': 12,\n",
       "    'askSize': 18,\n",
       "    'fullExchangeName': 'NasdaqGS',\n",
       "    'financialCurrency': 'USD',\n",
       "    'regularMarketOpen': 177.085,\n",
       "    'averageDailyVolume3Month': 90546580,\n",
       "    'averageDailyVolume10Day': 124357510,\n",
       "    'fiftyTwoWeekLowChange': 64.12,\n",
       "    'fiftyTwoWeekLowChangePercent': 0.5517598,\n",
       "    'fiftyTwoWeekRange': '116.21 - 182.13',\n",
       "    'fiftyTwoWeekHighChange': -1.800003,\n",
       "    'fiftyTwoWeekHighChangePercent': -0.009883067,\n",
       "    'fiftyTwoWeekLow': 116.21,\n",
       "    'fiftyTwoWeekHigh': 182.13,\n",
       "    'dividendDate': 1636588800,\n",
       "    'marketState': 'POSTPOST',\n",
       "    'displayName': 'Apple',\n",
       "    'symbol': 'AAPL'}],\n",
       "  'error': None}}"
      ]
     },
     "execution_count": 4,
     "metadata": {},
     "output_type": "execute_result"
    }
   ],
   "source": [
    "response.json()"
   ]
  },
  {
   "cell_type": "code",
   "execution_count": 6,
   "id": "4d71eac1",
   "metadata": {},
   "outputs": [
    {
     "name": "stdout",
     "output_type": "stream",
     "text": [
      "date_time: 2006-02-24 18:00:00\n",
      "type of dt: <class 'datetime.datetime'>\n"
     ]
    }
   ],
   "source": [
    "from datetime import datetime\n",
    "  \n",
    "  \n",
    "timestamp = 1643662800\n",
    "dt_obj = datetime.fromtimestamp(1140825600)\n",
    "  \n",
    "print(\"date_time:\",dt_obj)\n",
    "print(\"type of dt:\",type(dt_obj))"
   ]
  },
  {
   "cell_type": "code",
   "execution_count": null,
   "id": "6641b11f",
   "metadata": {},
   "outputs": [],
   "source": []
  }
 ],
 "metadata": {
  "kernelspec": {
   "display_name": "Python 3",
   "language": "python",
   "name": "python3"
  },
  "language_info": {
   "codemirror_mode": {
    "name": "ipython",
    "version": 3
   },
   "file_extension": ".py",
   "mimetype": "text/x-python",
   "name": "python",
   "nbconvert_exporter": "python",
   "pygments_lexer": "ipython3",
   "version": "3.8.8"
  }
 },
 "nbformat": 4,
 "nbformat_minor": 5
}
